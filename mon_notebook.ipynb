{
 "cells": [
  {
   "cell_type": "code",
   "execution_count": 4,
   "metadata": {},
   "outputs": [
    {
     "name": "stdout",
     "output_type": "stream",
     "text": [
      "[1, 2, 3]\n"
     ]
    }
   ],
   "source": [
    "list1=[1,2,3]\n",
    "list2=[]\n",
    "\n",
    "for x in range(len(list1)):\n",
    "    list2.append(list1[x])\n",
    "\n",
    "print(list2)"
   ]
  },
  {
   "cell_type": "code",
   "execution_count": 23,
   "metadata": {},
   "outputs": [
    {
     "name": "stdout",
     "output_type": "stream",
     "text": [
      "[(1, 3), (1, 1), (1, 4), (2, 3), (2, 4), (3, 3), (3, 4)]\n"
     ]
    }
   ],
   "source": [
    "bar=[(x, y) for x in [1,2,3] for y in [3,1,4] if y >= x]\n",
    "print(bar)"
   ]
  },
  {
   "cell_type": "markdown",
   "metadata": {},
   "source": [
    "Est équivallent à:"
   ]
  },
  {
   "cell_type": "code",
   "execution_count": 38,
   "metadata": {},
   "outputs": [
    {
     "data": {
      "text/plain": [
       "[{1, 3, 4},\n",
       " {1, 3, 9},\n",
       " {1, 3, 8},\n",
       " {1, 4},\n",
       " {1, 4, 9},\n",
       " {1, 4, 8},\n",
       " {2, 3, 4},\n",
       " {2, 3, 9},\n",
       " {2, 3, 8},\n",
       " {1, 2, 4},\n",
       " {1, 2, 9},\n",
       " {1, 2, 8},\n",
       " {2, 4},\n",
       " {2, 4, 9},\n",
       " {2, 4, 8},\n",
       " {1, 3, 4},\n",
       " {1, 3, 9},\n",
       " {1, 3, 8},\n",
       " {3, 4},\n",
       " {3, 4, 9},\n",
       " {3, 4, 8}]"
      ]
     },
     "execution_count": 38,
     "metadata": {},
     "output_type": "execute_result"
    }
   ],
   "source": [
    "but = []\n",
    "for x in [1,2,3]:\n",
    "    for y in [3,1,4]:\n",
    "        for z in [4,9,8]:\n",
    "            if x != y:\n",
    "                but.append({x, y, z})\n",
    "\n",
    "but"
   ]
  },
  {
   "cell_type": "code",
   "execution_count": null,
   "metadata": {
    "collapsed": true
   },
   "outputs": [],
   "source": []
  },
  {
   "cell_type": "code",
   "execution_count": 40,
   "metadata": {},
   "outputs": [
    {
     "data": {
      "text/plain": [
       "[(1, 3, 4),\n",
       " (1, 3, 9),\n",
       " (1, 3, 8),\n",
       " (1, 4, 4),\n",
       " (1, 4, 9),\n",
       " (1, 4, 8),\n",
       " (2, 3, 4),\n",
       " (2, 3, 9),\n",
       " (2, 3, 8),\n",
       " (2, 1, 4),\n",
       " (2, 1, 9),\n",
       " (2, 1, 8),\n",
       " (2, 4, 4),\n",
       " (2, 4, 9),\n",
       " (2, 4, 8),\n",
       " (3, 1, 4),\n",
       " (3, 1, 9),\n",
       " (3, 1, 8),\n",
       " (3, 4, 4),\n",
       " (3, 4, 9),\n",
       " (3, 4, 8)]"
      ]
     },
     "execution_count": 40,
     "metadata": {},
     "output_type": "execute_result"
    }
   ],
   "source": [
    "but = []\n",
    "for x in [1,2,3]:\n",
    "    for y in [3,1,4]:\n",
    "        for z in [4,9,8]:\n",
    "            if x != y:\n",
    "                but.append((x, y, z))\n",
    "\n",
    "but"
   ]
  },
  {
   "cell_type": "code",
   "execution_count": 41,
   "metadata": {},
   "outputs": [
    {
     "data": {
      "text/plain": [
       "[[1, 3, 4],\n",
       " [1, 3, 9],\n",
       " [1, 3, 8],\n",
       " [1, 4, 4],\n",
       " [1, 4, 9],\n",
       " [1, 4, 8],\n",
       " [2, 3, 4],\n",
       " [2, 3, 9],\n",
       " [2, 3, 8],\n",
       " [2, 1, 4],\n",
       " [2, 1, 9],\n",
       " [2, 1, 8],\n",
       " [2, 4, 4],\n",
       " [2, 4, 9],\n",
       " [2, 4, 8],\n",
       " [3, 1, 4],\n",
       " [3, 1, 9],\n",
       " [3, 1, 8],\n",
       " [3, 4, 4],\n",
       " [3, 4, 9],\n",
       " [3, 4, 8]]"
      ]
     },
     "execution_count": 41,
     "metadata": {},
     "output_type": "execute_result"
    }
   ],
   "source": [
    "but = []\n",
    "for x in [1,2,3]:\n",
    "    for y in [3,1,4]:\n",
    "        for z in [4,9,8]:\n",
    "            if x != y:\n",
    "                but.append([x, y, z])\n",
    "\n",
    "but"
   ]
  },
  {
   "cell_type": "code",
   "execution_count": 42,
   "metadata": {},
   "outputs": [
    {
     "data": {
      "text/plain": [
       "{1, 2}"
      ]
     },
     "execution_count": 42,
     "metadata": {},
     "output_type": "execute_result"
    }
   ],
   "source": [
    "{1,1,1,1,1,2}"
   ]
  },
  {
   "cell_type": "code",
   "execution_count": 43,
   "metadata": {},
   "outputs": [
    {
     "data": {
      "text/plain": [
       "(1, 1, 1, 1, 1, 2)"
      ]
     },
     "execution_count": 43,
     "metadata": {},
     "output_type": "execute_result"
    }
   ],
   "source": [
    "(1,1,1,1,1,2)"
   ]
  },
  {
   "cell_type": "code",
   "execution_count": 44,
   "metadata": {},
   "outputs": [
    {
     "data": {
      "text/plain": [
       "[1, 1, 1, 1, 1, 2]"
      ]
     },
     "execution_count": 44,
     "metadata": {},
     "output_type": "execute_result"
    }
   ],
   "source": [
    "[1,1,1,1,1,2]"
   ]
  },
  {
   "cell_type": "code",
   "execution_count": 45,
   "metadata": {},
   "outputs": [
    {
     "data": {
      "text/plain": [
       "{}"
      ]
     },
     "execution_count": 45,
     "metadata": {},
     "output_type": "execute_result"
    }
   ],
   "source": [
    "{}"
   ]
  },
  {
   "cell_type": "code",
   "execution_count": 46,
   "metadata": {},
   "outputs": [
    {
     "data": {
      "text/plain": [
       "()"
      ]
     },
     "execution_count": 46,
     "metadata": {},
     "output_type": "execute_result"
    }
   ],
   "source": [
    "()"
   ]
  },
  {
   "cell_type": "code",
   "execution_count": 51,
   "metadata": {},
   "outputs": [
    {
     "data": {
      "text/plain": [
       "True"
      ]
     },
     "execution_count": 51,
     "metadata": {},
     "output_type": "execute_result"
    }
   ],
   "source": [
    "{0}=={0,0}"
   ]
  },
  {
   "cell_type": "markdown",
   "metadata": {},
   "source": [
    "La fonction kkechose.strip() enlève les espaces à gauche et à droite des premier et derniers éléments de la liste"
   ]
  },
  {
   "cell_type": "code",
   "execution_count": 67,
   "metadata": {},
   "outputs": [
    {
     "name": "stdout",
     "output_type": "stream",
     "text": [
      "['  banana    dsdsd      q   ', '  loganberry ', 'passion fruit  ']\n",
      "['banana    dsdsd      q', 'loganberry', 'passion fruit']\n"
     ]
    }
   ],
   "source": [
    "freshfruit = ['  banana    dsdsd      q   ', '  loganberry ', 'passion fruit  ']\n",
    "mok=[weapon.strip() for weapon in freshfruit]\n",
    "print(freshfruit)\n",
    "print(mok)"
   ]
  },
  {
   "cell_type": "code",
   "execution_count": 70,
   "metadata": {},
   "outputs": [
    {
     "data": {
      "text/plain": [
       "5"
      ]
     },
     "execution_count": 70,
     "metadata": {},
     "output_type": "execute_result"
    }
   ],
   "source": [
    "vec = [[1,2,3], [4,5,6], [7,8,9]]\n",
    "vec[1][1]"
   ]
  },
  {
   "cell_type": "code",
   "execution_count": 71,
   "metadata": {},
   "outputs": [
    {
     "data": {
      "text/plain": [
       "[[1, 5, 9], [2, 6, 10], [3, 7, 11], [4, 8, 12]]"
      ]
     },
     "execution_count": 71,
     "metadata": {},
     "output_type": "execute_result"
    }
   ],
   "source": [
    "matrix = [\n",
    "    [1, 2, 3, 4],\n",
    "    [5, 6, 7, 8],\n",
    "    [9, 10, 11, 12],\n",
    "]\n",
    "transposed = []\n",
    "for i in range(4):\n",
    "    # the following 3 lines implement the nested listcomp\n",
    "    transposed_row = []\n",
    "    for row in matrix:\n",
    "        transposed_row.append(row[i])\n",
    "    transposed.append(transposed_row)\n",
    "\n",
    "transposed"
   ]
  },
  {
   "cell_type": "code",
   "execution_count": 74,
   "metadata": {},
   "outputs": [
    {
     "name": "stdout",
     "output_type": "stream",
     "text": [
      "1\n",
      "5\n",
      "9\n",
      "2\n",
      "6\n",
      "10\n",
      "3\n",
      "7\n",
      "11\n",
      "4\n",
      "8\n",
      "12\n"
     ]
    }
   ],
   "source": [
    "matrix = [\n",
    "    [1, 2, 3, 4],\n",
    "    [5, 6, 7, 8],\n",
    "    [9, 10, 11, 12],\n",
    "]\n",
    "for i in range(4):\n",
    "    for a in matrix:\n",
    "        print(a[i])"
   ]
  }
 ],
 "metadata": {
  "kernelspec": {
   "display_name": "Python 3",
   "language": "python",
   "name": "python3"
  },
  "language_info": {
   "codemirror_mode": {
    "name": "ipython",
    "version": 3
   },
   "file_extension": ".py",
   "mimetype": "text/x-python",
   "name": "python",
   "nbconvert_exporter": "python",
   "pygments_lexer": "ipython3",
   "version": "3.6.1"
  }
 },
 "nbformat": 4,
 "nbformat_minor": 2
}
