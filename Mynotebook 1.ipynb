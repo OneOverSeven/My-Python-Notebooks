{
 "cells": [
  {
   "cell_type": "code",
   "execution_count": null,
   "metadata": {
    "collapsed": true
   },
   "outputs": [],
   "source": []
  },
  {
   "cell_type": "code",
   "execution_count": 2,
   "metadata": {},
   "outputs": [
    {
     "name": "stdout",
     "output_type": "stream",
     "text": [
      "1\n",
      "1\n",
      "2\n",
      "3\n",
      "5\n",
      "8\n"
     ]
    }
   ],
   "source": [
    "a, b = 0,1\n",
    "while b<10:\n",
    "    print(b)\n",
    "    a,b = b, a+b"
   ]
  },
  {
   "cell_type": "markdown",
   "metadata": {},
   "source": [
    "# Control Flow Tools"
   ]
  },
  {
   "cell_type": "code",
   "execution_count": 7,
   "metadata": {},
   "outputs": [
    {
     "name": "stdout",
     "output_type": "stream",
     "text": [
      "Please enter an positive integer: -9\n",
      "It is a negative integer. It has been set equal to zero.\n",
      "x ==  0\n"
     ]
    }
   ],
   "source": [
    "x = int(input(\"Please enter an positive integer: \"))\n",
    "if x<0:\n",
    "    x=0\n",
    "    print(\"It is a negative integer. It has been set equal to zero.\")\n",
    "elif x==0:\n",
    "    print(\"You entered zero.\")\n",
    "elif x==1:\n",
    "    print(\"You entered one.\")\n",
    "elif x>1:\n",
    "    print(\"This input is greater than one.\")\n",
    "\n",
    "print(\"x == \", x)"
   ]
  },
  {
   "cell_type": "markdown",
   "metadata": {},
   "source": [
    "# for Statements"
   ]
  },
  {
   "cell_type": "markdown",
   "metadata": {},
   "source": [
    "The following code prints a list of words and measure the length of each words. "
   ]
  },
  {
   "cell_type": "code",
   "execution_count": 19,
   "metadata": {},
   "outputs": [
    {
     "name": "stdout",
     "output_type": "stream",
     "text": [
      "One 3, Two 3, Three 5, Four 4, Five 4, "
     ]
    }
   ],
   "source": [
    "word_list = [\"One\", \"Two\", \"Three\", \"Four\", \"Five\"]\n",
    "for each_words in word_list:\n",
    "    print(each_words, len(each_words), end=\", \") #How to remove the last coma..?"
   ]
  },
  {
   "cell_type": "markdown",
   "metadata": {},
   "source": [
    "How to remove the last coma of the output? Maybe like this:"
   ]
  },
  {
   "cell_type": "code",
   "execution_count": 18,
   "metadata": {},
   "outputs": [
    {
     "name": "stdout",
     "output_type": "stream",
     "text": [
      "One 3, Two 3, Three 5, Four 4, Five 4\n"
     ]
    }
   ],
   "source": [
    "word_list = [\"One\", \"Two\", \"Three\", \"Four\", \"Five\"]\n",
    "for each_words in word_list[0:len(word_list)-1]:\n",
    "    print(each_words, len(each_words), end=\", \")\n",
    "print(word_list[len(word_list)-1], len(word_list[len(word_list)-1]))"
   ]
  },
  {
   "cell_type": "markdown",
   "metadata": {},
   "source": [
    "$\\frac{\\pi^2}{6}$"
   ]
  },
  {
   "cell_type": "markdown",
   "metadata": {},
   "source": [
    "La suite de Fibonacci "
   ]
  },
  {
   "cell_type": "code",
   "execution_count": null,
   "metadata": {
    "collapsed": true
   },
   "outputs": [],
   "source": []
  }
 ],
 "metadata": {
  "kernelspec": {
   "display_name": "Python 3",
   "language": "python",
   "name": "python3"
  },
  "language_info": {
   "codemirror_mode": {
    "name": "ipython",
    "version": 3
   },
   "file_extension": ".py",
   "mimetype": "text/x-python",
   "name": "python",
   "nbconvert_exporter": "python",
   "pygments_lexer": "ipython3",
   "version": "3.6.1"
  }
 },
 "nbformat": 4,
 "nbformat_minor": 2
}
