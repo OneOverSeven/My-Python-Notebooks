{
 "cells": [
  {
   "cell_type": "markdown",
   "metadata": {
    "collapsed": true
   },
   "source": [
    "# The Fibonacci Sequence"
   ]
  },
  {
   "cell_type": "code",
   "execution_count": 2,
   "metadata": {},
   "outputs": [
    {
     "name": "stdout",
     "output_type": "stream",
     "text": [
      "1\n",
      "1\n",
      "2\n",
      "3\n",
      "5\n",
      "8\n"
     ]
    }
   ],
   "source": [
    "a, b = 0,1\n",
    "while b<10:\n",
    "    print(b)\n",
    "    a,b = b, a+b"
   ]
  },
  {
   "cell_type": "markdown",
   "metadata": {},
   "source": [
    "# Control Flow Tools"
   ]
  },
  {
   "cell_type": "code",
   "execution_count": 7,
   "metadata": {},
   "outputs": [
    {
     "name": "stdout",
     "output_type": "stream",
     "text": [
      "Please enter an positive integer: -9\n",
      "It is a negative integer. It has been set equal to zero.\n",
      "x ==  0\n"
     ]
    }
   ],
   "source": [
    "x = int(input(\"Please enter an positive integer: \"))\n",
    "if x<0:\n",
    "    x=0\n",
    "    print(\"It is a negative integer. It has been set equal to zero.\")\n",
    "elif x==0:\n",
    "    print(\"You entered zero.\")\n",
    "elif x==1:\n",
    "    print(\"You entered one.\")\n",
    "elif x>1:\n",
    "    print(\"This input is greater than one.\")\n",
    "\n",
    "print(\"x == \", x)"
   ]
  },
  {
   "cell_type": "markdown",
   "metadata": {},
   "source": [
    "# for Statements"
   ]
  },
  {
   "cell_type": "markdown",
   "metadata": {},
   "source": [
    "The following code prints a list of words and measure the length of each words. "
   ]
  },
  {
   "cell_type": "code",
   "execution_count": 19,
   "metadata": {},
   "outputs": [
    {
     "name": "stdout",
     "output_type": "stream",
     "text": [
      "One 3, Two 3, Three 5, Four 4, Five 4, "
     ]
    }
   ],
   "source": [
    "word_list = [\"One\", \"Two\", \"Three\", \"Four\", \"Five\"]\n",
    "for each_words in word_list:\n",
    "    print(each_words, len(each_words), end=\", \") #How to remove the last coma..?"
   ]
  },
  {
   "cell_type": "markdown",
   "metadata": {},
   "source": [
    "How to remove the last coma of the output? Maybe like this:"
   ]
  },
  {
   "cell_type": "code",
   "execution_count": 1,
   "metadata": {},
   "outputs": [
    {
     "name": "stdout",
     "output_type": "stream",
     "text": [
      "One 3, Two 3, Three 5, Four 4, Five 4\n"
     ]
    }
   ],
   "source": [
    "word_list = [\"One\", \"Two\", \"Three\", \"Four\", \"Five\"]\n",
    "for x in word_list[0:len(word_list)-1]:\n",
    "    print(x, len(x), end=\", \")\n",
    "print(word_list[len(word_list)-1], len(word_list[len(word_list)-1]))"
   ]
  },
  {
   "cell_type": "markdown",
   "metadata": {},
   "source": [
    "# The range() function"
   ]
  },
  {
   "cell_type": "markdown",
   "metadata": {},
   "source": [
    "Simple range that increments by 1"
   ]
  },
  {
   "cell_type": "code",
   "execution_count": 6,
   "metadata": {},
   "outputs": [
    {
     "name": "stdout",
     "output_type": "stream",
     "text": [
      "2 3 4 5 6 "
     ]
    }
   ],
   "source": [
    "for i in range(2,7):\n",
    "    print(i, end=\" \")"
   ]
  },
  {
   "cell_type": "markdown",
   "metadata": {},
   "source": [
    "Increment by 3"
   ]
  },
  {
   "cell_type": "code",
   "execution_count": 9,
   "metadata": {},
   "outputs": [
    {
     "name": "stdout",
     "output_type": "stream",
     "text": [
      "2 5 8 11 14 "
     ]
    }
   ],
   "source": [
    "# begin at 2, end at 17 and increment by 3\n",
    "for i in range(2,17,3):\n",
    "    print(i, end=\" \")"
   ]
  },
  {
   "cell_type": "markdown",
   "metadata": {},
   "source": [
    "Decrement by 3"
   ]
  },
  {
   "cell_type": "code",
   "execution_count": 10,
   "metadata": {},
   "outputs": [
    {
     "name": "stdout",
     "output_type": "stream",
     "text": [
      "29 26 23 20 17 14 11 8 5 2 -1 -4 "
     ]
    }
   ],
   "source": [
    "# begin at 29, end at -7 and increment by -7\n",
    "for i in range(29,-7,-3):\n",
    "    print(i, end=\" \")"
   ]
  },
  {
   "cell_type": "markdown",
   "metadata": {},
   "source": [
    "To oterate over a the indicies of a list or a sequence of things"
   ]
  },
  {
   "cell_type": "code",
   "execution_count": 18,
   "metadata": {},
   "outputs": [
    {
     "name": "stdout",
     "output_type": "stream",
     "text": [
      "[ 0 ]:  1\n",
      "[ 1 ]:  Two\n",
      "[ 2 ]:  3\n",
      "[ 3 ]:  Quattro\n"
     ]
    }
   ],
   "source": [
    "super_list=[1, \"Two\", 3, \"Quattro\"]\n",
    "for x in range(len(super_list)):\n",
    "    print(\"[\", x, \"]: \", super_list[x])"
   ]
  },
  {
   "cell_type": "code",
   "execution_count": 8,
   "metadata": {},
   "outputs": [
    {
     "name": "stdout",
     "output_type": "stream",
     "text": [
      "6 is not a prime number. n= 3 * 2\n",
      "7 is a prime number\n",
      "8 is not a prime number. n= 4 * 2\n",
      "9 is not a prime number. n= 3 * 3\n",
      "10 is not a prime number. n= 5 * 2\n",
      "11 is a prime number\n",
      "12 is not a prime number. n= 6 * 2\n",
      "13 is a prime number\n",
      "14 is not a prime number. n= 7 * 2\n",
      "15 is not a prime number. n= 5 * 3\n",
      "16 is not a prime number. n= 8 * 2\n",
      "17 is a prime number\n"
     ]
    }
   ],
   "source": [
    "#The integer part of thehalf of the first number we testmust be at least 3. That is because the \n",
    "#uppuer limit of the range() function is not included. For example if n=5, n//2==2 and if we ask \n",
    "#for the length of s=range(2,2), we find len(s) == 0.\n",
    "\n",
    "#The upper limit of the second for loop is n//2; a number is not \"divisable\" (not an integer)\n",
    "#by a number greater than its half.\n",
    "\n",
    "for n in range(6,18):\n",
    "    for x in range(2, (n//2)):\n",
    "        if n % x == 0:\n",
    "            print(n, \"is not a prime number. n=\", n//x, \"*\", x )\n",
    "            break\n",
    "    else:\n",
    "        print(n, \"is a prime number\")\n",
    "        "
   ]
  },
  {
   "cell_type": "code",
   "execution_count": null,
   "metadata": {
    "collapsed": true
   },
   "outputs": [],
   "source": []
  }
 ],
 "metadata": {
  "kernelspec": {
   "display_name": "Python 3",
   "language": "python",
   "name": "python3"
  },
  "language_info": {
   "codemirror_mode": {
    "name": "ipython",
    "version": 3
   },
   "file_extension": ".py",
   "mimetype": "text/x-python",
   "name": "python",
   "nbconvert_exporter": "python",
   "pygments_lexer": "ipython3",
   "version": "3.6.1"
  }
 },
 "nbformat": 4,
 "nbformat_minor": 2
}
