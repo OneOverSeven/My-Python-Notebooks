{
 "cells": [
  {
   "cell_type": "code",
   "execution_count": 4,
   "metadata": {},
   "outputs": [
    {
     "name": "stdout",
     "output_type": "stream",
     "text": [
      "[1, 2, 3]\n"
     ]
    }
   ],
   "source": [
    "list1=[1,2,3]\n",
    "list2=[]\n",
    "\n",
    "for x in range(len(list1)):\n",
    "    list2.append(list1[x])\n",
    "\n",
    "print(list2)"
   ]
  },
  {
   "cell_type": "code",
   "execution_count": 23,
   "metadata": {},
   "outputs": [
    {
     "name": "stdout",
     "output_type": "stream",
     "text": [
      "[(1, 3), (1, 1), (1, 4), (2, 3), (2, 4), (3, 3), (3, 4)]\n"
     ]
    }
   ],
   "source": [
    "bar=[(x, y) for x in [1,2,3] for y in [3,1,4] if y >= x]\n",
    "print(bar)"
   ]
  },
  {
   "cell_type": "markdown",
   "metadata": {},
   "source": [
    "Est équivallent à:"
   ]
  },
  {
   "cell_type": "code",
   "execution_count": 38,
   "metadata": {},
   "outputs": [
    {
     "data": {
      "text/plain": [
       "[{1, 3, 4},\n",
       " {1, 3, 9},\n",
       " {1, 3, 8},\n",
       " {1, 4},\n",
       " {1, 4, 9},\n",
       " {1, 4, 8},\n",
       " {2, 3, 4},\n",
       " {2, 3, 9},\n",
       " {2, 3, 8},\n",
       " {1, 2, 4},\n",
       " {1, 2, 9},\n",
       " {1, 2, 8},\n",
       " {2, 4},\n",
       " {2, 4, 9},\n",
       " {2, 4, 8},\n",
       " {1, 3, 4},\n",
       " {1, 3, 9},\n",
       " {1, 3, 8},\n",
       " {3, 4},\n",
       " {3, 4, 9},\n",
       " {3, 4, 8}]"
      ]
     },
     "execution_count": 38,
     "metadata": {},
     "output_type": "execute_result"
    }
   ],
   "source": [
    "but = []\n",
    "for x in [1,2,3]:\n",
    "    for y in [3,1,4]:\n",
    "        for z in [4,9,8]:\n",
    "            if x != y:\n",
    "                but.append({x, y, z})\n",
    "\n",
    "but"
   ]
  },
  {
   "cell_type": "code",
   "execution_count": null,
   "metadata": {
    "collapsed": true
   },
   "outputs": [],
   "source": []
  },
  {
   "cell_type": "code",
   "execution_count": 40,
   "metadata": {},
   "outputs": [
    {
     "data": {
      "text/plain": [
       "[(1, 3, 4),\n",
       " (1, 3, 9),\n",
       " (1, 3, 8),\n",
       " (1, 4, 4),\n",
       " (1, 4, 9),\n",
       " (1, 4, 8),\n",
       " (2, 3, 4),\n",
       " (2, 3, 9),\n",
       " (2, 3, 8),\n",
       " (2, 1, 4),\n",
       " (2, 1, 9),\n",
       " (2, 1, 8),\n",
       " (2, 4, 4),\n",
       " (2, 4, 9),\n",
       " (2, 4, 8),\n",
       " (3, 1, 4),\n",
       " (3, 1, 9),\n",
       " (3, 1, 8),\n",
       " (3, 4, 4),\n",
       " (3, 4, 9),\n",
       " (3, 4, 8)]"
      ]
     },
     "execution_count": 40,
     "metadata": {},
     "output_type": "execute_result"
    }
   ],
   "source": [
    "but = []\n",
    "for x in [1,2,3]:\n",
    "    for y in [3,1,4]:\n",
    "        for z in [4,9,8]:\n",
    "            if x != y:\n",
    "                but.append((x, y, z))\n",
    "\n",
    "but"
   ]
  },
  {
   "cell_type": "code",
   "execution_count": 41,
   "metadata": {},
   "outputs": [
    {
     "data": {
      "text/plain": [
       "[[1, 3, 4],\n",
       " [1, 3, 9],\n",
       " [1, 3, 8],\n",
       " [1, 4, 4],\n",
       " [1, 4, 9],\n",
       " [1, 4, 8],\n",
       " [2, 3, 4],\n",
       " [2, 3, 9],\n",
       " [2, 3, 8],\n",
       " [2, 1, 4],\n",
       " [2, 1, 9],\n",
       " [2, 1, 8],\n",
       " [2, 4, 4],\n",
       " [2, 4, 9],\n",
       " [2, 4, 8],\n",
       " [3, 1, 4],\n",
       " [3, 1, 9],\n",
       " [3, 1, 8],\n",
       " [3, 4, 4],\n",
       " [3, 4, 9],\n",
       " [3, 4, 8]]"
      ]
     },
     "execution_count": 41,
     "metadata": {},
     "output_type": "execute_result"
    }
   ],
   "source": [
    "but = []\n",
    "for x in [1,2,3]:\n",
    "    for y in [3,1,4]:\n",
    "        for z in [4,9,8]:\n",
    "            if x != y:\n",
    "                but.append([x, y, z])\n",
    "\n",
    "but"
   ]
  },
  {
   "cell_type": "code",
   "execution_count": 42,
   "metadata": {},
   "outputs": [
    {
     "data": {
      "text/plain": [
       "{1, 2}"
      ]
     },
     "execution_count": 42,
     "metadata": {},
     "output_type": "execute_result"
    }
   ],
   "source": [
    "{1,1,1,1,1,2}"
   ]
  },
  {
   "cell_type": "code",
   "execution_count": 43,
   "metadata": {},
   "outputs": [
    {
     "data": {
      "text/plain": [
       "(1, 1, 1, 1, 1, 2)"
      ]
     },
     "execution_count": 43,
     "metadata": {},
     "output_type": "execute_result"
    }
   ],
   "source": [
    "(1,1,1,1,1,2)"
   ]
  },
  {
   "cell_type": "code",
   "execution_count": 44,
   "metadata": {},
   "outputs": [
    {
     "data": {
      "text/plain": [
       "[1, 1, 1, 1, 1, 2]"
      ]
     },
     "execution_count": 44,
     "metadata": {},
     "output_type": "execute_result"
    }
   ],
   "source": [
    "[1,1,1,1,1,2]"
   ]
  },
  {
   "cell_type": "code",
   "execution_count": 45,
   "metadata": {},
   "outputs": [
    {
     "data": {
      "text/plain": [
       "{}"
      ]
     },
     "execution_count": 45,
     "metadata": {},
     "output_type": "execute_result"
    }
   ],
   "source": [
    "{}"
   ]
  },
  {
   "cell_type": "code",
   "execution_count": 46,
   "metadata": {},
   "outputs": [
    {
     "data": {
      "text/plain": [
       "()"
      ]
     },
     "execution_count": 46,
     "metadata": {},
     "output_type": "execute_result"
    }
   ],
   "source": [
    "()"
   ]
  },
  {
   "cell_type": "code",
   "execution_count": 51,
   "metadata": {},
   "outputs": [
    {
     "data": {
      "text/plain": [
       "True"
      ]
     },
     "execution_count": 51,
     "metadata": {},
     "output_type": "execute_result"
    }
   ],
   "source": [
    "{0}=={0,0}"
   ]
  },
  {
   "cell_type": "markdown",
   "metadata": {},
   "source": [
    "La fonction kkechose.strip() enlève les espaces à gauche et à droite des premier et derniers éléments de la liste"
   ]
  },
  {
   "cell_type": "code",
   "execution_count": 67,
   "metadata": {},
   "outputs": [
    {
     "name": "stdout",
     "output_type": "stream",
     "text": [
      "['  banana    dsdsd      q   ', '  loganberry ', 'passion fruit  ']\n",
      "['banana    dsdsd      q', 'loganberry', 'passion fruit']\n"
     ]
    }
   ],
   "source": [
    "freshfruit = ['  banana    dsdsd      q   ', '  loganberry ', 'passion fruit  ']\n",
    "mok=[weapon.strip() for weapon in freshfruit]\n",
    "print(freshfruit)\n",
    "print(mok)"
   ]
  },
  {
   "cell_type": "code",
   "execution_count": 70,
   "metadata": {},
   "outputs": [
    {
     "data": {
      "text/plain": [
       "5"
      ]
     },
     "execution_count": 70,
     "metadata": {},
     "output_type": "execute_result"
    }
   ],
   "source": [
    "vec = [[1,2,3], [4,5,6], [7,8,9]]\n",
    "vec[1][1]"
   ]
  },
  {
   "cell_type": "code",
   "execution_count": 71,
   "metadata": {},
   "outputs": [
    {
     "data": {
      "text/plain": [
       "[[1, 5, 9], [2, 6, 10], [3, 7, 11], [4, 8, 12]]"
      ]
     },
     "execution_count": 71,
     "metadata": {},
     "output_type": "execute_result"
    }
   ],
   "source": [
    "matrix = [\n",
    "    [1, 2, 3, 4],\n",
    "    [5, 6, 7, 8],\n",
    "    [9, 10, 11, 12],\n",
    "]\n",
    "transposed = []\n",
    "for i in range(4):\n",
    "    # the following 3 lines implement the nested listcomp\n",
    "    transposed_row = []\n",
    "    for row in matrix:\n",
    "        transposed_row.append(row[i])\n",
    "    transposed.append(transposed_row)\n",
    "\n",
    "transposed"
   ]
  },
  {
   "cell_type": "code",
   "execution_count": 74,
   "metadata": {},
   "outputs": [
    {
     "name": "stdout",
     "output_type": "stream",
     "text": [
      "1\n",
      "5\n",
      "9\n",
      "2\n",
      "6\n",
      "10\n",
      "3\n",
      "7\n",
      "11\n",
      "4\n",
      "8\n",
      "12\n"
     ]
    }
   ],
   "source": [
    "matrix = [\n",
    "    [1, 2, 3, 4],\n",
    "    [5, 6, 7, 8],\n",
    "    [9, 10, 11, 12],\n",
    "]\n",
    "for i in range(4):\n",
    "    for a in matrix:\n",
    "        print(a[i])"
   ]
  },
  {
   "cell_type": "code",
   "execution_count": 11,
   "metadata": {},
   "outputs": [
    {
     "name": "stdout",
     "output_type": "stream",
     "text": [
      "[1, 66.25, 333, 333, 1234.5]\n",
      "[1, 66.25, 1234.5]\n",
      "[]\n"
     ]
    },
    {
     "ename": "TypeError",
     "evalue": "'tuple' object does not support item assignment",
     "output_type": "error",
     "traceback": [
      "\u001b[1;31m---------------------------------------------------------------------------\u001b[0m",
      "\u001b[1;31mTypeError\u001b[0m                                 Traceback (most recent call last)",
      "\u001b[1;32m<ipython-input-11-c3d1532ed302>\u001b[0m in \u001b[0;36m<module>\u001b[1;34m()\u001b[0m\n\u001b[0;32m     10\u001b[0m \u001b[1;33m\u001b[0m\u001b[0m\n\u001b[0;32m     11\u001b[0m \u001b[0mb\u001b[0m\u001b[1;33m=\u001b[0m\u001b[1;33m(\u001b[0m\u001b[1;33m[\u001b[0m\u001b[1;36m1\u001b[0m\u001b[1;33m,\u001b[0m\u001b[1;36m2\u001b[0m\u001b[1;33m]\u001b[0m\u001b[1;33m,\u001b[0m\u001b[1;33m[\u001b[0m\u001b[1;36m6\u001b[0m\u001b[1;33m,\u001b[0m\u001b[1;36m9\u001b[0m\u001b[1;33m]\u001b[0m\u001b[1;33m)\u001b[0m\u001b[1;33m\u001b[0m\u001b[0m\n\u001b[1;32m---> 12\u001b[1;33m \u001b[0mb\u001b[0m\u001b[1;33m[\u001b[0m\u001b[1;36m0\u001b[0m\u001b[1;33m]\u001b[0m\u001b[1;33m=\u001b[0m\u001b[1;33m[\u001b[0m\u001b[1;36m3\u001b[0m\u001b[1;33m,\u001b[0m\u001b[1;36m4\u001b[0m\u001b[1;33m]\u001b[0m\u001b[1;33m\u001b[0m\u001b[0m\n\u001b[0m",
      "\u001b[1;31mTypeError\u001b[0m: 'tuple' object does not support item assignment"
     ]
    }
   ],
   "source": [
    "a = [-1, 1, 66.25, 333, 333, 1234.5]\n",
    "del a[0]\n",
    "print(a)\n",
    "\n",
    "del a[2:4]\n",
    "print(a)\n",
    "\n",
    "del a[:]\n",
    "print(a)\n",
    "\n",
    "b=([1,2],[6,9])\n",
    "b[0]=[3,4]\n"
   ]
  },
  {
   "cell_type": "code",
   "execution_count": 17,
   "metadata": {},
   "outputs": [
    {
     "name": "stdout",
     "output_type": "stream",
     "text": [
      "(1, 2, 'trois') 1 2 trois trois\n"
     ]
    }
   ],
   "source": [
    "t=1,2,\"trois\"\n",
    "x,y,z=t \n",
    "w=t[2]\n",
    "print(t, x, y, z, w)"
   ]
  },
  {
   "cell_type": "code",
   "execution_count": 19,
   "metadata": {},
   "outputs": [
    {
     "name": "stdout",
     "output_type": "stream",
     "text": [
      "{'jack': 4098, 'sape': 4139, 'guido': 4127}\n",
      "{'jack': 4098, 'guido': 4127, 'irv': 4127}\n",
      "True\n",
      "False\n"
     ]
    }
   ],
   "source": [
    "tel = {'jack': 4098, 'sape': 4139}\n",
    "tel['guido'] = 4127\n",
    "print(tel)\n",
    "\n",
    "tel['jack']\n",
    "\n",
    "del tel['sape']\n",
    "tel['irv'] = 4127\n",
    "print(tel)\n",
    "\n",
    "list(tel.keys())\n",
    "\n",
    "sorted(tel.keys())\n",
    "\n",
    "print('guido' in tel)\n",
    "\n",
    "print('jack' not in tel)"
   ]
  }
 ],
 "metadata": {
  "kernelspec": {
   "display_name": "Python 3",
   "language": "python",
   "name": "python3"
  },
  "language_info": {
   "codemirror_mode": {
    "name": "ipython",
    "version": 3
   },
   "file_extension": ".py",
   "mimetype": "text/x-python",
   "name": "python",
   "nbconvert_exporter": "python",
   "pygments_lexer": "ipython3",
   "version": "3.6.1"
  }
 },
 "nbformat": 4,
 "nbformat_minor": 2
}
